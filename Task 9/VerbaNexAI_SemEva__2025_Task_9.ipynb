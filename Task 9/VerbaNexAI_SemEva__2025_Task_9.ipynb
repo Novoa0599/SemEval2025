{
  "nbformat": 4,
  "nbformat_minor": 0,
  "metadata": {
    "colab": {
      "provenance": []
    },
    "kernelspec": {
      "name": "python3",
      "display_name": "Python 3"
    },
    "language_info": {
      "name": "python"
    }
  },
  "cells": [
    {
      "cell_type": "markdown",
      "source": [
        "# **SemEval 2025 Task 9: The Food Hazard Detection Challenge**"
      ],
      "metadata": {
        "id": "r5_tMxGqH9_9"
      }
    },
    {
      "cell_type": "markdown",
      "source": [
        "**Read Data**"
      ],
      "metadata": {
        "id": "J68ki8E8ISZc"
      }
    },
    {
      "cell_type": "code",
      "source": [
        "import pandas as pd\n",
        "import numpy as np\n",
        "import matplotlib.pyplot as plt\n",
        "from sklearn.preprocessing import LabelEncoder\n",
        "import matplotlib.pyplot as plt\n",
        "import seaborn as sns\n",
        "from sklearn.preprocessing import LabelEncoder\n",
        "from sklearn.metrics import accuracy_score\n",
        "from sklearn.preprocessing import StandardScaler\n",
        "from sklearn.discriminant_analysis import StandardScaler\n",
        "from sklearn.ensemble import RandomForestClassifier\n",
        "from sklearn.model_selection import train_test_split"
      ],
      "metadata": {
        "id": "VjuJftgW4ZGW"
      },
      "execution_count": null,
      "outputs": []
    },
    {
      "cell_type": "code",
      "source": [
        "import random\n",
        "import tensorflow as tf\n",
        "import torch\n",
        "\n",
        "# Set seed in all libraries\n",
        "np.random.seed(42)\n",
        "random.seed(42)\n",
        "tf.random.set_seed(42)\n",
        "torch.manual_seed(42)"
      ],
      "metadata": {
        "colab": {
          "base_uri": "https://localhost:8080/"
        },
        "id": "QYLWNsA28Ldt",
        "outputId": "8f1817c6-a0f5-4685-b79a-73d20faebb47"
      },
      "execution_count": null,
      "outputs": [
        {
          "output_type": "execute_result",
          "data": {
            "text/plain": [
              "<torch._C.Generator at 0x7bf11425ea70>"
            ]
          },
          "metadata": {},
          "execution_count": 2
        }
      ]
    },
    {
      "cell_type": "code",
      "source": [
        "import pandas as pd\n",
        "data = pd.read_csv('incidents_train.csv', index_col=0, encoding='utf-8')\n",
        "data.sample(15)"
      ],
      "metadata": {
        "id": "VOJ6InWuIOXb"
      },
      "execution_count": null,
      "outputs": []
    },
    {
      "cell_type": "code",
      "source": [
        "import pandas as pd\n",
        "dataprueba= pd.read_csv('incidents_labelled.csv', index_col=0, encoding='utf-8')\n",
        "dataprueba.sample(15)"
      ],
      "metadata": {
        "id": "_FeBDWycocbO"
      },
      "execution_count": null,
      "outputs": []
    },
    {
      "cell_type": "code",
      "source": [
        "data.isnull().sum()"
      ],
      "metadata": {
        "id": "0MiQ_GtrJeFG"
      },
      "execution_count": null,
      "outputs": []
    },
    {
      "cell_type": "code",
      "source": [
        "data.describe()"
      ],
      "metadata": {
        "id": "k5P2cEfWLvEM"
      },
      "execution_count": null,
      "outputs": []
    },
    {
      "cell_type": "code",
      "source": [
        "data.info()"
      ],
      "metadata": {
        "id": "hq16bs3gMr8h"
      },
      "execution_count": null,
      "outputs": []
    },
    {
      "cell_type": "markdown",
      "source": [
        "**CATEGORIES OF VARIABLES**\n",
        "\n",
        "\n",
        "***ST1 Text classification for food hazard prediction, predicting the type of hazard and product.***"
      ],
      "metadata": {
        "id": "eTqin3-4M8ah"
      }
    },
    {
      "cell_type": "code",
      "source": [
        "# Identify categorical variables\n",
        "categorical_variables = ['hazard-category', 'product-category']\n",
        "\n",
        "# Print the number of unique categories in each variable\n",
        "for col in categorical_variables:\n",
        "    print(\"Variable:\", col)\n",
        "    print(\"Número de categorías únicas:\", data[col].nunique())\n",
        "    print(\"Categorías únicas:\", data[col].unique())\n",
        "    print(\"\\n\")"
      ],
      "metadata": {
        "id": "AlGHp_RRMzJ-"
      },
      "execution_count": null,
      "outputs": []
    },
    {
      "cell_type": "code",
      "source": [
        "# Identify categorical variables\n",
        "categorical_variables = ['hazard', 'product']\n",
        "\n",
        "# Print the number of unique categories in each variable\n",
        "for col in categorical_variables:\n",
        "    print(\"Variable:\", col)\n",
        "    print(\"Número de categorías únicas:\", data[col].nunique())\n",
        "    print(\"Categorías únicas:\", data[col].unique())\n",
        "    print(\"\\n\")"
      ],
      "metadata": {
        "id": "RMTxCQiyXVMo"
      },
      "execution_count": null,
      "outputs": []
    },
    {
      "cell_type": "code",
      "source": [
        "import pandas as pd\n",
        "\n",
        "# Load dataset\n",
        "df = pd.read_csv('incidents_train.csv')\n",
        "\n",
        "# Select the desired column\n",
        "columna = df['hazard']\n",
        "\n",
        "# Save the column as a CSV file\n",
        "columna.to_csv('columna_extraida.csv', index=False, header=True)\n"
      ],
      "metadata": {
        "colab": {
          "base_uri": "https://localhost:8080/"
        },
        "id": "aBdJ6uhndmxG",
        "outputId": "0e511244-3546-4c22-808e-b9df97897c91"
      },
      "execution_count": null,
      "outputs": [
        {
          "output_type": "stream",
          "name": "stdout",
          "text": [
            "Columna guardada exitosamente.\n"
          ]
        }
      ]
    },
    {
      "cell_type": "code",
      "source": [
        "# Obtain the count\n",
        "data_counts = data['hazard'].value_counts()\n",
        "data_counts.head(15)"
      ],
      "metadata": {
        "id": "gktQSkzYZzpL"
      },
      "execution_count": null,
      "outputs": []
    },
    {
      "cell_type": "code",
      "source": [
        "# Obtain the count\n",
        "data_counts_product = data['product-category'].value_counts()\n",
        "data_counts_product"
      ],
      "metadata": {
        "id": "t8IkjoOnOcd6"
      },
      "execution_count": null,
      "outputs": []
    },
    {
      "cell_type": "markdown",
      "source": [
        "# **UNBALANCED DATA, RANDOMFOREST AND TF-IDF ARE USED.**\n",
        "\n",
        "# **TITLE**"
      ],
      "metadata": {
        "id": "0LfJhl2Eu2w6"
      }
    },
    {
      "cell_type": "code",
      "source": [
        "trainset, testset = train_test_split(data, test_size=0.2, random_state=2024)"
      ],
      "metadata": {
        "id": "ygyFVO0SPJ96"
      },
      "execution_count": null,
      "outputs": []
    },
    {
      "cell_type": "code",
      "source": [
        "from sklearn.pipeline import Pipeline\n",
        "from sklearn.metrics import ConfusionMatrixDisplay, classification_report\n",
        "from sklearn.ensemble import RandomForestClassifier\n",
        "from sklearn.feature_extraction.text import TfidfVectorizer"
      ],
      "metadata": {
        "id": "yI1pmxEaKDhs"
      },
      "execution_count": null,
      "outputs": []
    },
    {
      "cell_type": "code",
      "source": [
        "text_clf_lr = Pipeline([\n",
        "    ('vect', TfidfVectorizer(strip_accents='unicode', analyzer='char', ngram_range=(2,5), max_df=0.5, min_df=5)),\n",
        "    ('clf', RandomForestClassifier(n_estimators=100, random_state=42)),\n",
        "])"
      ],
      "metadata": {
        "id": "efR_uf1xKDkg"
      },
      "execution_count": null,
      "outputs": []
    },
    {
      "cell_type": "code",
      "source": [
        "from sklearn.metrics import classification_report, f1_score\n",
        "for label in ('hazard-category', 'product-category', 'hazard', 'product'):\n",
        "  print(label.upper())\n",
        "  text_clf_lr.fit(trainset.title, trainset[label])\n",
        "  lr_predictions = text_clf_lr.predict(testset.title)\n",
        "  print(f'macro: {f1_score(testset[label], lr_predictions, zero_division=0, average=\"macro\"):.2f}')\n",
        "  print(f'micro: {f1_score(testset[label], lr_predictions, zero_division=0, average=\"micro\"):.2f}')"
      ],
      "metadata": {
        "id": "e887M_rtKDnb"
      },
      "execution_count": null,
      "outputs": []
    },
    {
      "cell_type": "code",
      "source": [
        "import pandas as pd\n",
        "dataprueba= pd.read_csv('incidents_labelled.csv', index_col=0, encoding='utf-8')\n",
        "dataprueba.sample(15)"
      ],
      "metadata": {
        "id": "sbXuOchVPPd6"
      },
      "execution_count": null,
      "outputs": []
    },
    {
      "cell_type": "code",
      "source": [
        "from sklearn.metrics import classification_report, f1_score\n",
        "predictions = {}\n",
        "for label in ('hazard-category', 'product-category', 'hazard', 'product'):\n",
        "  print(label.upper())\n",
        "  text_clf_lr.fit(trainset.title, trainset[label])\n",
        "  predictions[label] = text_clf_lr.predict(dataprueba.title)\n",
        "  print(f\"F1-micro: {f1_score(dataprueba[label], predictions[label], average='micro'):.2f}\")\n",
        "  print(f\"F1-macro: {f1_score(dataprueba[label], predictions[label], average='macro'):.2f}\")"
      ],
      "metadata": {
        "id": "Y8zu6pLLKDqF"
      },
      "execution_count": null,
      "outputs": []
    },
    {
      "cell_type": "code",
      "source": [
        "for label in ('hazard-category', 'product-category', 'hazard', 'product'):\n",
        "  dataprueba['RF-'+label] = predictions[label]"
      ],
      "metadata": {
        "id": "-88Ru7tvKDs5"
      },
      "execution_count": null,
      "outputs": []
    },
    {
      "cell_type": "code",
      "source": [
        "from sklearn.metrics import f1_score\n",
        "\n",
        "def compute_score(hazards_true, products_true, hazards_pred, products_pred):\n",
        "  # compute f1 for hazards:\n",
        "  f1_hazards = f1_score(\n",
        "    hazards_true,\n",
        "    hazards_pred,\n",
        "    average='macro'\n",
        "  )\n",
        "\n",
        "  # compute f1 for products:\n",
        "  f1_products = f1_score(\n",
        "    products_true[hazards_pred == hazards_true],\n",
        "    products_pred[hazards_pred == hazards_true],\n",
        "    average='macro'\n",
        "  )\n",
        "\n",
        "  return (f1_hazards + f1_products) / 2."
      ],
      "metadata": {
        "id": "dYhKaEBNKDyQ"
      },
      "execution_count": null,
      "outputs": []
    },
    {
      "cell_type": "code",
      "source": [
        "print('Score Sub-Task 1:', compute_score(dataprueba['hazard-category'], dataprueba['product-category'], dataprueba['RF-hazard-category'], dataprueba['RF-product-category']))\n",
        "print('Score Sub-Task 2:', compute_score(dataprueba['hazard'], dataprueba['product'], dataprueba['RF-hazard'], dataprueba['RF-product']))"
      ],
      "metadata": {
        "colab": {
          "base_uri": "https://localhost:8080/"
        },
        "id": "RW6PxWHirmIQ",
        "outputId": "defae93d-3674-43b6-9407-9ef2b27621b2"
      },
      "execution_count": null,
      "outputs": [
        {
          "output_type": "stream",
          "name": "stdout",
          "text": [
            "Score Sub-Task 1: 0.8379866951716192\n",
            "Score Sub-Task 2: 0.7234708580189386\n"
          ]
        }
      ]
    },
    {
      "cell_type": "code",
      "source": [
        "import pandas as pd\n",
        "data_valid = pd.read_csv('incidents.csv', index_col=0, encoding='utf-8')\n",
        "data_valid"
      ],
      "metadata": {
        "id": "mvFmT84YG6WS"
      },
      "execution_count": null,
      "outputs": []
    },
    {
      "cell_type": "markdown",
      "source": [
        "#**Predictions**"
      ],
      "metadata": {
        "id": "br0jY4ReM8py"
      }
    },
    {
      "cell_type": "code",
      "source": [
        "# Validation set predictions\n",
        "predictions = text_clf.predict(data_valid['title'])\n",
        "\n",
        "# Stores predictions in the dictionary\n",
        "predictions_valid[f'{label}'] = predictions\n",
        "\n",
        "print(f\"Predicciones para {label} completadas.\")\n",
        "\n",
        "# Predictions\n",
        "data_valid_predictions = pd.DataFrame(predictions_valid, index=data_valid.index)\n",
        "\n",
        "# Save predictions\n",
        "data_valid_predictions.to_csv('submision.csv', index=False)\n"
      ],
      "metadata": {
        "id": "3r35U0R2vH9z"
      },
      "execution_count": null,
      "outputs": []
    },
    {
      "cell_type": "code",
      "source": [
        "df = pd.read_csv('submision.csv')\n",
        "df"
      ],
      "metadata": {
        "colab": {
          "base_uri": "https://localhost:8080/",
          "height": 423
        },
        "id": "G6lHBRDgvIEi",
        "outputId": "838e19c3-f1af-4489-abcd-16ec4a694a45"
      },
      "execution_count": null,
      "outputs": [
        {
          "output_type": "execute_result",
          "data": {
            "text/plain": [
              "    hazard-category                              product-category  \\\n",
              "0        biological                  meat, egg and dairy products   \n",
              "1        biological                  meat, egg and dairy products   \n",
              "2    foreign bodies                  meat, egg and dairy products   \n",
              "3         allergens                  meat, egg and dairy products   \n",
              "4         allergens                             ices and desserts   \n",
              "..              ...                                           ...   \n",
              "992       allergens                  meat, egg and dairy products   \n",
              "993      biological                         fruits and vegetables   \n",
              "994      biological                                       seafood   \n",
              "995  foreign bodies                   cereals and bakery products   \n",
              "996       allergens  cocoa and cocoa preparations, coffee and tea   \n",
              "\n",
              "                           hazard                      product  \n",
              "0                escherichia coli                  ground beef  \n",
              "1          listeria monocytogenes  thermal processed pork meat  \n",
              "2                plastic fragment               chicken breast  \n",
              "3          listeria monocytogenes                      baklava  \n",
              "4       eggs and products thereof                    ice cream  \n",
              "..                            ...                          ...  \n",
              "992  peanuts and products thereof       chicken based products  \n",
              "993                    salmonella          dried elder berries  \n",
              "994        listeria monocytogenes        Fishes not identified  \n",
              "995                     alkaloids               tortilla chips  \n",
              "996     milk and products thereof               chocolate bars  \n",
              "\n",
              "[997 rows x 4 columns]"
            ],
            "text/html": [
              "\n",
              "  <div id=\"df-c9bc0008-7337-4933-bbeb-d5819f99a306\" class=\"colab-df-container\">\n",
              "    <div>\n",
              "<style scoped>\n",
              "    .dataframe tbody tr th:only-of-type {\n",
              "        vertical-align: middle;\n",
              "    }\n",
              "\n",
              "    .dataframe tbody tr th {\n",
              "        vertical-align: top;\n",
              "    }\n",
              "\n",
              "    .dataframe thead th {\n",
              "        text-align: right;\n",
              "    }\n",
              "</style>\n",
              "<table border=\"1\" class=\"dataframe\">\n",
              "  <thead>\n",
              "    <tr style=\"text-align: right;\">\n",
              "      <th></th>\n",
              "      <th>hazard-category</th>\n",
              "      <th>product-category</th>\n",
              "      <th>hazard</th>\n",
              "      <th>product</th>\n",
              "    </tr>\n",
              "  </thead>\n",
              "  <tbody>\n",
              "    <tr>\n",
              "      <th>0</th>\n",
              "      <td>biological</td>\n",
              "      <td>meat, egg and dairy products</td>\n",
              "      <td>escherichia coli</td>\n",
              "      <td>ground beef</td>\n",
              "    </tr>\n",
              "    <tr>\n",
              "      <th>1</th>\n",
              "      <td>biological</td>\n",
              "      <td>meat, egg and dairy products</td>\n",
              "      <td>listeria monocytogenes</td>\n",
              "      <td>thermal processed pork meat</td>\n",
              "    </tr>\n",
              "    <tr>\n",
              "      <th>2</th>\n",
              "      <td>foreign bodies</td>\n",
              "      <td>meat, egg and dairy products</td>\n",
              "      <td>plastic fragment</td>\n",
              "      <td>chicken breast</td>\n",
              "    </tr>\n",
              "    <tr>\n",
              "      <th>3</th>\n",
              "      <td>allergens</td>\n",
              "      <td>meat, egg and dairy products</td>\n",
              "      <td>listeria monocytogenes</td>\n",
              "      <td>baklava</td>\n",
              "    </tr>\n",
              "    <tr>\n",
              "      <th>4</th>\n",
              "      <td>allergens</td>\n",
              "      <td>ices and desserts</td>\n",
              "      <td>eggs and products thereof</td>\n",
              "      <td>ice cream</td>\n",
              "    </tr>\n",
              "    <tr>\n",
              "      <th>...</th>\n",
              "      <td>...</td>\n",
              "      <td>...</td>\n",
              "      <td>...</td>\n",
              "      <td>...</td>\n",
              "    </tr>\n",
              "    <tr>\n",
              "      <th>992</th>\n",
              "      <td>allergens</td>\n",
              "      <td>meat, egg and dairy products</td>\n",
              "      <td>peanuts and products thereof</td>\n",
              "      <td>chicken based products</td>\n",
              "    </tr>\n",
              "    <tr>\n",
              "      <th>993</th>\n",
              "      <td>biological</td>\n",
              "      <td>fruits and vegetables</td>\n",
              "      <td>salmonella</td>\n",
              "      <td>dried elder berries</td>\n",
              "    </tr>\n",
              "    <tr>\n",
              "      <th>994</th>\n",
              "      <td>biological</td>\n",
              "      <td>seafood</td>\n",
              "      <td>listeria monocytogenes</td>\n",
              "      <td>Fishes not identified</td>\n",
              "    </tr>\n",
              "    <tr>\n",
              "      <th>995</th>\n",
              "      <td>foreign bodies</td>\n",
              "      <td>cereals and bakery products</td>\n",
              "      <td>alkaloids</td>\n",
              "      <td>tortilla chips</td>\n",
              "    </tr>\n",
              "    <tr>\n",
              "      <th>996</th>\n",
              "      <td>allergens</td>\n",
              "      <td>cocoa and cocoa preparations, coffee and tea</td>\n",
              "      <td>milk and products thereof</td>\n",
              "      <td>chocolate bars</td>\n",
              "    </tr>\n",
              "  </tbody>\n",
              "</table>\n",
              "<p>997 rows × 4 columns</p>\n",
              "</div>\n",
              "    <div class=\"colab-df-buttons\">\n",
              "\n",
              "  <div class=\"colab-df-container\">\n",
              "    <button class=\"colab-df-convert\" onclick=\"convertToInteractive('df-c9bc0008-7337-4933-bbeb-d5819f99a306')\"\n",
              "            title=\"Convert this dataframe to an interactive table.\"\n",
              "            style=\"display:none;\">\n",
              "\n",
              "  <svg xmlns=\"http://www.w3.org/2000/svg\" height=\"24px\" viewBox=\"0 -960 960 960\">\n",
              "    <path d=\"M120-120v-720h720v720H120Zm60-500h600v-160H180v160Zm220 220h160v-160H400v160Zm0 220h160v-160H400v160ZM180-400h160v-160H180v160Zm440 0h160v-160H620v160ZM180-180h160v-160H180v160Zm440 0h160v-160H620v160Z\"/>\n",
              "  </svg>\n",
              "    </button>\n",
              "\n",
              "  <style>\n",
              "    .colab-df-container {\n",
              "      display:flex;\n",
              "      gap: 12px;\n",
              "    }\n",
              "\n",
              "    .colab-df-convert {\n",
              "      background-color: #E8F0FE;\n",
              "      border: none;\n",
              "      border-radius: 50%;\n",
              "      cursor: pointer;\n",
              "      display: none;\n",
              "      fill: #1967D2;\n",
              "      height: 32px;\n",
              "      padding: 0 0 0 0;\n",
              "      width: 32px;\n",
              "    }\n",
              "\n",
              "    .colab-df-convert:hover {\n",
              "      background-color: #E2EBFA;\n",
              "      box-shadow: 0px 1px 2px rgba(60, 64, 67, 0.3), 0px 1px 3px 1px rgba(60, 64, 67, 0.15);\n",
              "      fill: #174EA6;\n",
              "    }\n",
              "\n",
              "    .colab-df-buttons div {\n",
              "      margin-bottom: 4px;\n",
              "    }\n",
              "\n",
              "    [theme=dark] .colab-df-convert {\n",
              "      background-color: #3B4455;\n",
              "      fill: #D2E3FC;\n",
              "    }\n",
              "\n",
              "    [theme=dark] .colab-df-convert:hover {\n",
              "      background-color: #434B5C;\n",
              "      box-shadow: 0px 1px 3px 1px rgba(0, 0, 0, 0.15);\n",
              "      filter: drop-shadow(0px 1px 2px rgba(0, 0, 0, 0.3));\n",
              "      fill: #FFFFFF;\n",
              "    }\n",
              "  </style>\n",
              "\n",
              "    <script>\n",
              "      const buttonEl =\n",
              "        document.querySelector('#df-c9bc0008-7337-4933-bbeb-d5819f99a306 button.colab-df-convert');\n",
              "      buttonEl.style.display =\n",
              "        google.colab.kernel.accessAllowed ? 'block' : 'none';\n",
              "\n",
              "      async function convertToInteractive(key) {\n",
              "        const element = document.querySelector('#df-c9bc0008-7337-4933-bbeb-d5819f99a306');\n",
              "        const dataTable =\n",
              "          await google.colab.kernel.invokeFunction('convertToInteractive',\n",
              "                                                    [key], {});\n",
              "        if (!dataTable) return;\n",
              "\n",
              "        const docLinkHtml = 'Like what you see? Visit the ' +\n",
              "          '<a target=\"_blank\" href=https://colab.research.google.com/notebooks/data_table.ipynb>data table notebook</a>'\n",
              "          + ' to learn more about interactive tables.';\n",
              "        element.innerHTML = '';\n",
              "        dataTable['output_type'] = 'display_data';\n",
              "        await google.colab.output.renderOutput(dataTable, element);\n",
              "        const docLink = document.createElement('div');\n",
              "        docLink.innerHTML = docLinkHtml;\n",
              "        element.appendChild(docLink);\n",
              "      }\n",
              "    </script>\n",
              "  </div>\n",
              "\n",
              "\n",
              "<div id=\"df-f61bb2d9-e68a-48f1-9f8a-63c600b4871f\">\n",
              "  <button class=\"colab-df-quickchart\" onclick=\"quickchart('df-f61bb2d9-e68a-48f1-9f8a-63c600b4871f')\"\n",
              "            title=\"Suggest charts\"\n",
              "            style=\"display:none;\">\n",
              "\n",
              "<svg xmlns=\"http://www.w3.org/2000/svg\" height=\"24px\"viewBox=\"0 0 24 24\"\n",
              "     width=\"24px\">\n",
              "    <g>\n",
              "        <path d=\"M19 3H5c-1.1 0-2 .9-2 2v14c0 1.1.9 2 2 2h14c1.1 0 2-.9 2-2V5c0-1.1-.9-2-2-2zM9 17H7v-7h2v7zm4 0h-2V7h2v10zm4 0h-2v-4h2v4z\"/>\n",
              "    </g>\n",
              "</svg>\n",
              "  </button>\n",
              "\n",
              "<style>\n",
              "  .colab-df-quickchart {\n",
              "      --bg-color: #E8F0FE;\n",
              "      --fill-color: #1967D2;\n",
              "      --hover-bg-color: #E2EBFA;\n",
              "      --hover-fill-color: #174EA6;\n",
              "      --disabled-fill-color: #AAA;\n",
              "      --disabled-bg-color: #DDD;\n",
              "  }\n",
              "\n",
              "  [theme=dark] .colab-df-quickchart {\n",
              "      --bg-color: #3B4455;\n",
              "      --fill-color: #D2E3FC;\n",
              "      --hover-bg-color: #434B5C;\n",
              "      --hover-fill-color: #FFFFFF;\n",
              "      --disabled-bg-color: #3B4455;\n",
              "      --disabled-fill-color: #666;\n",
              "  }\n",
              "\n",
              "  .colab-df-quickchart {\n",
              "    background-color: var(--bg-color);\n",
              "    border: none;\n",
              "    border-radius: 50%;\n",
              "    cursor: pointer;\n",
              "    display: none;\n",
              "    fill: var(--fill-color);\n",
              "    height: 32px;\n",
              "    padding: 0;\n",
              "    width: 32px;\n",
              "  }\n",
              "\n",
              "  .colab-df-quickchart:hover {\n",
              "    background-color: var(--hover-bg-color);\n",
              "    box-shadow: 0 1px 2px rgba(60, 64, 67, 0.3), 0 1px 3px 1px rgba(60, 64, 67, 0.15);\n",
              "    fill: var(--button-hover-fill-color);\n",
              "  }\n",
              "\n",
              "  .colab-df-quickchart-complete:disabled,\n",
              "  .colab-df-quickchart-complete:disabled:hover {\n",
              "    background-color: var(--disabled-bg-color);\n",
              "    fill: var(--disabled-fill-color);\n",
              "    box-shadow: none;\n",
              "  }\n",
              "\n",
              "  .colab-df-spinner {\n",
              "    border: 2px solid var(--fill-color);\n",
              "    border-color: transparent;\n",
              "    border-bottom-color: var(--fill-color);\n",
              "    animation:\n",
              "      spin 1s steps(1) infinite;\n",
              "  }\n",
              "\n",
              "  @keyframes spin {\n",
              "    0% {\n",
              "      border-color: transparent;\n",
              "      border-bottom-color: var(--fill-color);\n",
              "      border-left-color: var(--fill-color);\n",
              "    }\n",
              "    20% {\n",
              "      border-color: transparent;\n",
              "      border-left-color: var(--fill-color);\n",
              "      border-top-color: var(--fill-color);\n",
              "    }\n",
              "    30% {\n",
              "      border-color: transparent;\n",
              "      border-left-color: var(--fill-color);\n",
              "      border-top-color: var(--fill-color);\n",
              "      border-right-color: var(--fill-color);\n",
              "    }\n",
              "    40% {\n",
              "      border-color: transparent;\n",
              "      border-right-color: var(--fill-color);\n",
              "      border-top-color: var(--fill-color);\n",
              "    }\n",
              "    60% {\n",
              "      border-color: transparent;\n",
              "      border-right-color: var(--fill-color);\n",
              "    }\n",
              "    80% {\n",
              "      border-color: transparent;\n",
              "      border-right-color: var(--fill-color);\n",
              "      border-bottom-color: var(--fill-color);\n",
              "    }\n",
              "    90% {\n",
              "      border-color: transparent;\n",
              "      border-bottom-color: var(--fill-color);\n",
              "    }\n",
              "  }\n",
              "</style>\n",
              "\n",
              "  <script>\n",
              "    async function quickchart(key) {\n",
              "      const quickchartButtonEl =\n",
              "        document.querySelector('#' + key + ' button');\n",
              "      quickchartButtonEl.disabled = true;  // To prevent multiple clicks.\n",
              "      quickchartButtonEl.classList.add('colab-df-spinner');\n",
              "      try {\n",
              "        const charts = await google.colab.kernel.invokeFunction(\n",
              "            'suggestCharts', [key], {});\n",
              "      } catch (error) {\n",
              "        console.error('Error during call to suggestCharts:', error);\n",
              "      }\n",
              "      quickchartButtonEl.classList.remove('colab-df-spinner');\n",
              "      quickchartButtonEl.classList.add('colab-df-quickchart-complete');\n",
              "    }\n",
              "    (() => {\n",
              "      let quickchartButtonEl =\n",
              "        document.querySelector('#df-f61bb2d9-e68a-48f1-9f8a-63c600b4871f button');\n",
              "      quickchartButtonEl.style.display =\n",
              "        google.colab.kernel.accessAllowed ? 'block' : 'none';\n",
              "    })();\n",
              "  </script>\n",
              "</div>\n",
              "\n",
              "  <div id=\"id_14027126-0f90-4143-be04-1d0949f7dcdf\">\n",
              "    <style>\n",
              "      .colab-df-generate {\n",
              "        background-color: #E8F0FE;\n",
              "        border: none;\n",
              "        border-radius: 50%;\n",
              "        cursor: pointer;\n",
              "        display: none;\n",
              "        fill: #1967D2;\n",
              "        height: 32px;\n",
              "        padding: 0 0 0 0;\n",
              "        width: 32px;\n",
              "      }\n",
              "\n",
              "      .colab-df-generate:hover {\n",
              "        background-color: #E2EBFA;\n",
              "        box-shadow: 0px 1px 2px rgba(60, 64, 67, 0.3), 0px 1px 3px 1px rgba(60, 64, 67, 0.15);\n",
              "        fill: #174EA6;\n",
              "      }\n",
              "\n",
              "      [theme=dark] .colab-df-generate {\n",
              "        background-color: #3B4455;\n",
              "        fill: #D2E3FC;\n",
              "      }\n",
              "\n",
              "      [theme=dark] .colab-df-generate:hover {\n",
              "        background-color: #434B5C;\n",
              "        box-shadow: 0px 1px 3px 1px rgba(0, 0, 0, 0.15);\n",
              "        filter: drop-shadow(0px 1px 2px rgba(0, 0, 0, 0.3));\n",
              "        fill: #FFFFFF;\n",
              "      }\n",
              "    </style>\n",
              "    <button class=\"colab-df-generate\" onclick=\"generateWithVariable('df')\"\n",
              "            title=\"Generate code using this dataframe.\"\n",
              "            style=\"display:none;\">\n",
              "\n",
              "  <svg xmlns=\"http://www.w3.org/2000/svg\" height=\"24px\"viewBox=\"0 0 24 24\"\n",
              "       width=\"24px\">\n",
              "    <path d=\"M7,19H8.4L18.45,9,17,7.55,7,17.6ZM5,21V16.75L18.45,3.32a2,2,0,0,1,2.83,0l1.4,1.43a1.91,1.91,0,0,1,.58,1.4,1.91,1.91,0,0,1-.58,1.4L9.25,21ZM18.45,9,17,7.55Zm-12,3A5.31,5.31,0,0,0,4.9,8.1,5.31,5.31,0,0,0,1,6.5,5.31,5.31,0,0,0,4.9,4.9,5.31,5.31,0,0,0,6.5,1,5.31,5.31,0,0,0,8.1,4.9,5.31,5.31,0,0,0,12,6.5,5.46,5.46,0,0,0,6.5,12Z\"/>\n",
              "  </svg>\n",
              "    </button>\n",
              "    <script>\n",
              "      (() => {\n",
              "      const buttonEl =\n",
              "        document.querySelector('#id_14027126-0f90-4143-be04-1d0949f7dcdf button.colab-df-generate');\n",
              "      buttonEl.style.display =\n",
              "        google.colab.kernel.accessAllowed ? 'block' : 'none';\n",
              "\n",
              "      buttonEl.onclick = () => {\n",
              "        google.colab.notebook.generateWithVariable('df');\n",
              "      }\n",
              "      })();\n",
              "    </script>\n",
              "  </div>\n",
              "\n",
              "    </div>\n",
              "  </div>\n"
            ],
            "application/vnd.google.colaboratory.intrinsic+json": {
              "type": "dataframe",
              "variable_name": "df",
              "summary": "{\n  \"name\": \"df\",\n  \"rows\": 997,\n  \"fields\": [\n    {\n      \"column\": \"hazard-category\",\n      \"properties\": {\n        \"dtype\": \"category\",\n        \"num_unique_values\": 8,\n        \"samples\": [\n          \"foreign bodies\",\n          \"food additives and flavourings\",\n          \"biological\"\n        ],\n        \"semantic_type\": \"\",\n        \"description\": \"\"\n      }\n    },\n    {\n      \"column\": \"product-category\",\n      \"properties\": {\n        \"dtype\": \"category\",\n        \"num_unique_values\": 17,\n        \"samples\": [\n          \"meat, egg and dairy products\",\n          \"ices and desserts\",\n          \"fats and oils\"\n        ],\n        \"semantic_type\": \"\",\n        \"description\": \"\"\n      }\n    },\n    {\n      \"column\": \"hazard\",\n      \"properties\": {\n        \"dtype\": \"category\",\n        \"num_unique_values\": 69,\n        \"samples\": [\n          \"soybeans and products thereof\",\n          \"escherichia coli\",\n          \"incorrect labeling\"\n        ],\n        \"semantic_type\": \"\",\n        \"description\": \"\"\n      }\n    },\n    {\n      \"column\": \"product\",\n      \"properties\": {\n        \"dtype\": \"category\",\n        \"num_unique_values\": 272,\n        \"samples\": [\n          \"turkey and turkey preparations\",\n          \"chocolate products\",\n          \"lasagne\"\n        ],\n        \"semantic_type\": \"\",\n        \"description\": \"\"\n      }\n    }\n  ]\n}"
            }
          },
          "metadata": {},
          "execution_count": 39
        }
      ]
    },
    {
      "cell_type": "markdown",
      "source": [
        "# **SVM-TITLE**"
      ],
      "metadata": {
        "id": "fZoXU6b5vJkF"
      }
    },
    {
      "cell_type": "code",
      "source": [
        "data_SMV = pd.read_csv('incidents_train.csv', index_col=0, encoding='utf-8')\n",
        "data_SMV.sample(15)"
      ],
      "metadata": {
        "id": "Ungw6Nw0ZgqM"
      },
      "execution_count": null,
      "outputs": []
    },
    {
      "cell_type": "code",
      "source": [
        "dataprueba_SMV= pd.read_csv('incidents_labelled.csv', index_col=0, encoding='utf-8')\n",
        "dataprueba_SMV.sample(15)"
      ],
      "metadata": {
        "id": "Vs39NoPoZZck"
      },
      "execution_count": null,
      "outputs": []
    },
    {
      "cell_type": "code",
      "source": [
        "trainset, testset = train_test_split(data_SMV, test_size=0.2, random_state=2024)"
      ],
      "metadata": {
        "id": "K_koPCTTZZfT"
      },
      "execution_count": null,
      "outputs": []
    },
    {
      "cell_type": "code",
      "source": [
        "from sklearn.pipeline import Pipeline\n",
        "from sklearn.metrics import ConfusionMatrixDisplay, classification_report\n",
        "from sklearn.svm import SVC\n",
        "from sklearn.feature_extraction.text import TfidfVectorizer"
      ],
      "metadata": {
        "id": "-7wsfzxo0WZS"
      },
      "execution_count": null,
      "outputs": []
    },
    {
      "cell_type": "code",
      "source": [
        "text_clf_SMV = Pipeline([\n",
        "    ('vect', TfidfVectorizer(strip_accents='unicode', analyzer='char', ngram_range=(2,5), max_df=0.5, min_df=5)),\n",
        "    ('clf',  SVC(kernel='linear', degree=3)),\n",
        "])"
      ],
      "metadata": {
        "id": "T_vcWbWRrmOP"
      },
      "execution_count": null,
      "outputs": []
    },
    {
      "cell_type": "code",
      "source": [
        "from sklearn.metrics import classification_report, f1_score\n",
        "for label in ('hazard-category', 'product-category', 'hazard', 'product'):\n",
        "  print(label.upper())\n",
        "  text_clf_SMV.fit(trainset.title, trainset[label])\n",
        "  SMV_predictions = text_clf_SMV.predict(testset.title)\n",
        "  print(f'macro: {f1_score(testset[label], SMV_predictions, zero_division=0, average=\"macro\"):.2f}')\n",
        "  print(f'micro: {f1_score(testset[label], SMV_predictions, zero_division=0, average=\"micro\"):.2f}')"
      ],
      "metadata": {
        "id": "522_IvRhvxfO"
      },
      "execution_count": null,
      "outputs": []
    },
    {
      "cell_type": "code",
      "source": [
        "from sklearn.metrics import classification_report, f1_score\n",
        "SMV_predictions= {}\n",
        "for label in ('hazard-category', 'product-category', 'hazard', 'product'):\n",
        "  print(label.upper())\n",
        "  text_clf_SMV.fit(trainset.title, trainset[label])\n",
        "  SMV_predictions[label] = text_clf_SMV.predict(dataprueba_SMV.title)\n",
        "  print(f\"F1-micro: {f1_score(dataprueba_SMV[label], SMV_predictions[label], average='micro'):.2f}\")\n",
        "  print(f\"F1-macro: {f1_score(dataprueba_SMV[label], SMV_predictions[label], average='macro'):.2f}\")0"
      ],
      "metadata": {
        "id": "OrMCwQVIvxhz"
      },
      "execution_count": null,
      "outputs": []
    },
    {
      "cell_type": "code",
      "source": [
        "for label in ('hazard-category', 'product-category', 'hazard', 'product'):\n",
        "  dataprueba_SMV['SMV-'+label] = SMV_predictions[label]"
      ],
      "metadata": {
        "id": "ZdEx_FD5vxj3"
      },
      "execution_count": null,
      "outputs": []
    },
    {
      "cell_type": "code",
      "source": [
        "from sklearn.metrics import f1_score\n",
        "\n",
        "def compute_score(hazards_true, products_true, hazards_pred, products_pred):\n",
        "  # compute f1 for hazards:\n",
        "  f1_hazards = f1_score(\n",
        "    hazards_true,\n",
        "    hazards_pred,\n",
        "    average='macro'\n",
        "  )\n",
        "\n",
        "  # compute f1 for products:\n",
        "  f1_products = f1_score(\n",
        "    products_true[hazards_pred == hazards_true],\n",
        "    products_pred[hazards_pred == hazards_true],\n",
        "    average='macro'\n",
        "  )\n",
        "\n",
        "  return (f1_hazards + f1_products) / 2."
      ],
      "metadata": {
        "id": "RLPXtVbSvxmC"
      },
      "execution_count": null,
      "outputs": []
    },
    {
      "cell_type": "code",
      "source": [
        "print('Score Sub-Task 1:', compute_score(dataprueba_SMV['hazard-category'], dataprueba_SMV['product-category'], dataprueba_SMV['SMV-hazard-category'], dataprueba_SMV['SMV-product-category']))\n",
        "print('Score Sub-Task 2:', compute_score(dataprueba_SMV['hazard'], dataprueba_SMV['product'], dataprueba_SMV['SMV-hazard'], dataprueba_SMV['SMV-product']))"
      ],
      "metadata": {
        "id": "aWDj-pZ_vxod"
      },
      "execution_count": null,
      "outputs": []
    },
    {
      "cell_type": "markdown",
      "source": [
        "# **XGBOOST**"
      ],
      "metadata": {
        "id": "tbaqtdVNeA1a"
      }
    },
    {
      "cell_type": "code",
      "source": [
        "from xgboost import XGBClassifier\n",
        "\n",
        "# Definir el pipeline\n",
        "pipeline = Pipeline([\n",
        "    ('tfidf', TfidfVectorizer()),\n",
        "    ('classifier', XGBClassifier(eval_metric='mlogloss'))\n",
        "])"
      ],
      "metadata": {
        "id": "zUByC0oDd_zC"
      },
      "execution_count": null,
      "outputs": []
    },
    {
      "cell_type": "code",
      "source": [
        "from sklearn.preprocessing import LabelEncoder\n",
        "from sklearn.metrics import classification_report, f1_score\n",
        "from sklearn.pipeline import Pipeline\n",
        "from sklearn.feature_extraction.text import TfidfVectorizer\n",
        "from xgboost import XGBClassifier\n",
        "\n",
        "# Initialize LabelEncoder\n",
        "le = LabelEncoder()\n",
        "\n",
        "for label in ('hazard-category', 'product-category', 'hazard', 'product'):\n",
        "  print(label.upper())\n",
        "\n",
        "  # Fit label encoder on training data and transform labels\n",
        "  y_train = le.fit_transform(trainset[label])\n",
        "\n",
        "  # Fit the pipeline with numerical labels\n",
        "  pipeline.fit(trainset.title, y_train)\n",
        "\n",
        "  # Handle unseen labels in test data\n",
        "  try:\n",
        "    y_test = le.transform(testset[label])\n",
        "  except ValueError as e:\n",
        "    print(f\"Error: {e}\")\n",
        "    # Option 1: Handle unseen labels (e.g., assign a default value)\n",
        "    unseen_labels = set(testset[label]) - set(le.classes_)\n",
        "    for unseen_label in unseen_labels:\n",
        "      le.classes_ = np.append(le.classes_, unseen_label)\n",
        "    y_test = le.transform(testset[label])\n",
        "\n",
        "  XGB_predictions = pipeline.predict(testset.title)\n",
        "  print(f'macro: {f1_score(y_test, XGB_predictions, zero_division=0, average=\"macro\"):.2f}')\n",
        "  print(f'micro: {f1_score(y_test, XGB_predictions, zero_division=0, average=\"micro\"):.2f}')"
      ],
      "metadata": {
        "id": "Gkl3SnZSvxuq"
      },
      "execution_count": null,
      "outputs": []
    },
    {
      "cell_type": "code",
      "source": [
        "from sklearn.metrics import classification_report, f1_score\n",
        "from sklearn.preprocessing import LabelEncoder\n",
        "\n",
        "XGB_predictions= {}\n",
        "le = LabelEncoder() # Initialize LabelEncoder\n",
        "\n",
        "for label in ('hazard-category', 'product-category', 'hazard', 'product'):\n",
        "  print(label.upper())\n",
        "\n",
        "  # Fit label encoder and transform labels\n",
        "  y_train = le.fit_transform(trainset[label])\n",
        "\n",
        "  pipeline.fit(trainset.title, y_train) # Fit with numerical labels\n",
        "\n",
        "  # Handle unseen labels in test data\n",
        "  try:\n",
        "    y_test = le.transform(dataprueba[label])\n",
        "  except ValueError as e:\n",
        "    print(f\"Error: {e}\")\n",
        "    # Option 1: Handle unseen labels (e.g., assign a default value)\n",
        "    unseen_labels = set(dataprueba[label]) - set(le.classes_)\n",
        "    for unseen_label in unseen_labels:\n",
        "      le.classes_ = np.append(le.classes_, unseen_label)\n",
        "    y_test = le.transform(dataprueba[label])\n",
        "\n",
        "  # Assign predictions to XGB_predictions dictionary\n",
        "  XGB_predictions[label] = pipeline.predict(dataprueba.title)\n",
        "  print(f\"F1-micro: {f1_score(y_test, XGB_predictions[label], average='micro'):.2f}\")\n",
        "  print(f\"F1-macro: {f1_score(y_test, XGB_predictions[label], average='macro'):.2f}\")"
      ],
      "metadata": {
        "id": "B-nlzesavxxx"
      },
      "execution_count": null,
      "outputs": []
    },
    {
      "cell_type": "code",
      "source": [
        "for label in ('hazard-category', 'product-category', 'hazard', 'product'):\n",
        "  dataprueba['XGB-'+label] = XGB_predictions[label]"
      ],
      "metadata": {
        "id": "d-QZTTEnDgkF"
      },
      "execution_count": null,
      "outputs": []
    },
    {
      "cell_type": "code",
      "source": [
        "from sklearn.metrics import f1_score\n",
        "\n",
        "def compute_score(hazards_true, products_true, hazards_pred, products_pred):\n",
        "  # compute f1 for hazards:\n",
        "  f1_hazards = f1_score(\n",
        "    hazards_true,\n",
        "    hazards_pred,\n",
        "    average='macro'\n",
        "  )\n",
        "\n",
        "  # compute f1 for products:\n",
        "  f1_products = f1_score(\n",
        "    products_true[hazards_pred == hazards_true],\n",
        "    products_pred[hazards_pred == hazards_true],\n",
        "    average='macro'\n",
        "  )\n",
        "\n",
        "  return (f1_hazards + f1_products) / 2."
      ],
      "metadata": {
        "id": "owui8mBHDgmg"
      },
      "execution_count": null,
      "outputs": []
    },
    {
      "cell_type": "code",
      "source": [
        "print('Score Sub-Task 1:', compute_score(dataprueba['hazard-category'], dataprueba['product-category'], dataprueba['XGB-hazard-category'], dataprueba['XGB-product-category']))\n",
        "print('Score Sub-Task 2:', compute_score(dataprueba['hazard'], dataprueba['product'], dataprueba['XGB-hazard'], dataprueba['XGB-product']))"
      ],
      "metadata": {
        "id": "0WPWwOwuDgr2"
      },
      "execution_count": null,
      "outputs": []
    }
  ]
}